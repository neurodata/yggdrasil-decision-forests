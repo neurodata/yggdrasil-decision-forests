{
 "cells": [
  {
   "cell_type": "markdown",
   "id": "930f1323",
   "metadata": {},
   "source": [
    "### Convert CSV > DOT"
   ]
  },
  {
   "cell_type": "code",
   "execution_count": null,
   "id": "a4a716fd",
   "metadata": {},
   "outputs": [],
   "source": [
    "# Remove the header from intel Survey.csv\n",
    "# tail -n +7 advisor_raw.csv > advisor_clean.csv"
   ]
  },
  {
   "cell_type": "code",
   "execution_count": 6,
   "id": "47162886",
   "metadata": {},
   "outputs": [
    {
     "data": {
      "text/plain": [
       "'survey.dot'"
      ]
     },
     "execution_count": 6,
     "metadata": {},
     "output_type": "execute_result"
    }
   ],
   "source": [
    "import csv, re\n",
    "from pathlib import Path\n",
    "from graphviz import Digraph   # pip install graphviz\n",
    "\n",
    "def seconds(t):\n",
    "    # strip the trailing 's' and quotes\n",
    "    return float(t.strip('\"s'))\n",
    "\n",
    "g = Digraph('loops', graph_attr={'rankdir': 'LR'})\n",
    "g.attr('node', shape='box', style='filled', fontname='Helvetica')\n",
    "\n",
    "with Path('survey_clean.csv').open() as f:\n",
    "    reader = csv.DictReader(f, delimiter=',', quotechar='\"')\n",
    "    for row in reader:\n",
    "        loop_id   = row['ID']\n",
    "        func      = row['Function Call Sites and Loops']\n",
    "        tot_time  = seconds(row['Total Time'])\n",
    "        self_time = seconds(row['Self Time'])\n",
    "\n",
    "        # colour by total time (crude heat-map)\n",
    "        if   tot_time >  5:  color = '#ff6666'   # hot\n",
    "        elif tot_time >  1:  color = '#ffcc66'   # warm\n",
    "        else:                color = '#ccffcc'   # cold\n",
    "\n",
    "        label = f\"<<B>{func}</B><BR/>total {tot_time:.3}s<br/>self {self_time:.3}s>>\"\n",
    "        g.node(loop_id, label=label, fillcolor=color)\n",
    "\n",
    "# optional: rank by total time so the worst is left-most\n",
    "g.node_attr.update(rank='source')\n",
    "g.save('survey.dot')\n"
   ]
  },
  {
   "cell_type": "code",
   "execution_count": null,
   "id": "b758f26a",
   "metadata": {},
   "outputs": [],
   "source": []
  }
 ],
 "metadata": {
  "kernelspec": {
   "display_name": ".venv",
   "language": "python",
   "name": "python3"
  },
  "language_info": {
   "codemirror_mode": {
    "name": "ipython",
    "version": 3
   },
   "file_extension": ".py",
   "mimetype": "text/x-python",
   "name": "python",
   "nbconvert_exporter": "python",
   "pygments_lexer": "ipython3",
   "version": "3.12.3"
  }
 },
 "nbformat": 4,
 "nbformat_minor": 5
}
